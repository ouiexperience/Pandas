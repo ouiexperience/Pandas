{
 "cells": [
  {
   "cell_type": "code",
   "execution_count": 98,
   "id": "451a2597",
   "metadata": {},
   "outputs": [],
   "source": [
    "import numpy as np\n",
    "import pandas as pd\n",
    "\n"
   ]
  },
  {
   "cell_type": "code",
   "execution_count": 99,
   "id": "89cb11b3",
   "metadata": {},
   "outputs": [],
   "source": [
    "visits = pd.read_csv('C:/Users/anian/OneDrive/Desktop/Ani/DATA Analytics/Codeacademy/Panda/cool T shirts/Page_Visits_Funnel_Project/visits.csv',\n",
    "                     parse_dates=[1])\n"
   ]
  },
  {
   "cell_type": "code",
   "execution_count": 100,
   "id": "8cb63c2f",
   "metadata": {},
   "outputs": [],
   "source": [
    "cart = pd.read_csv('C:/Users/anian/OneDrive/Desktop/Ani/DATA Analytics/Codeacademy/Panda/cool T shirts/Page_Visits_Funnel_Project/cart.csv',\n",
    "                   parse_dates=[1])\n",
    "checkout = pd.read_csv('C:/Users/anian/OneDrive/Desktop/Ani/DATA Analytics/Codeacademy/Panda/cool T shirts/Page_Visits_Funnel_Project/checkout.csv',\n",
    "                       parse_dates=[1])\n",
    "purchase = pd.read_csv('C:/Users/anian/OneDrive/Desktop/Ani/DATA Analytics/Codeacademy/Panda/cool T shirts/Page_Visits_Funnel_Project/purchase.csv',\n",
    "                       parse_dates=[1])"
   ]
  },
  {
   "cell_type": "code",
   "execution_count": 101,
   "id": "60cd82f0",
   "metadata": {},
   "outputs": [
    {
     "name": "stdout",
     "output_type": "stream",
     "text": [
      "                                user_id          visit_time\n",
      "0  943647ef-3682-4750-a2e1-918ba6f16188 2017-04-07 15:14:00\n",
      "1  0c3a3dd0-fb64-4eac-bf84-ba069ce409f2 2017-01-26 14:24:00\n",
      "2  6e0b2d60-4027-4d9a-babd-0e7d40859fb1 2017-08-20 08:23:00\n",
      "3  6879527e-c5a6-4d14-b2da-50b85212b0ab 2017-11-04 18:15:00\n",
      "4  a84327ff-5daa-4ba1-b789-d5b4caf81e96 2017-02-27 11:25:00\n"
     ]
    }
   ],
   "source": [
    "print(visits.head())"
   ]
  },
  {
   "cell_type": "code",
   "execution_count": 102,
   "id": "4d4ad140",
   "metadata": {},
   "outputs": [
    {
     "name": "stdout",
     "output_type": "stream",
     "text": [
      "                                user_id           cart_time\n",
      "0  2be90e7c-9cca-44e0-bcc5-124b945ff168 2017-11-07 20:45:00\n",
      "1  4397f73f-1da3-4ab3-91af-762792e25973 2017-05-27 01:35:00\n",
      "2  a9db3d4b-0a0a-4398-a55a-ebb2c7adf663 2017-03-04 10:38:00\n",
      "3  b594862a-36c5-47d5-b818-6e9512b939b3 2017-09-27 08:22:00\n",
      "4  a68a16e2-94f0-4ce8-8ce3-784af0bbb974 2017-07-26 15:48:00\n"
     ]
    }
   ],
   "source": [
    "print(cart.head())"
   ]
  },
  {
   "cell_type": "code",
   "execution_count": 103,
   "id": "297abd7e",
   "metadata": {},
   "outputs": [
    {
     "name": "stdout",
     "output_type": "stream",
     "text": [
      "                                user_id       checkout_time\n",
      "0  d33bdc47-4afa-45bc-b4e4-dbe948e34c0d 2017-06-25 09:29:00\n",
      "1  4ac186f0-9954-4fea-8a27-c081e428e34e 2017-04-07 20:11:00\n",
      "2  3c9c78a7-124a-4b77-8d2e-e1926e011e7d 2017-07-13 11:38:00\n",
      "3  89fe330a-8966-4756-8f7c-3bdbcd47279a 2017-04-20 16:15:00\n",
      "4  3ccdaf69-2d30-40de-b083-51372881aedd 2017-01-08 20:52:00\n"
     ]
    }
   ],
   "source": [
    "print(checkout.head())"
   ]
  },
  {
   "cell_type": "code",
   "execution_count": 104,
   "id": "04718ba1",
   "metadata": {},
   "outputs": [
    {
     "name": "stdout",
     "output_type": "stream",
     "text": [
      "                                user_id       purchase_time\n",
      "0  4b44ace4-2721-47a0-b24b-15fbfa2abf85 2017-05-11 04:25:00\n",
      "1  02e684ae-a448-408f-a9ff-dcb4a5c99aac 2017-09-05 08:45:00\n",
      "2  4b4bc391-749e-4b90-ab8f-4f6e3c84d6dc 2017-11-20 20:49:00\n",
      "3  a5dbb25f-3c36-4103-9030-9f7c6241cd8d 2017-01-22 15:18:00\n",
      "4  46a3186d-7f5a-4ab9-87af-84d05bfd4867 2017-06-11 11:32:00\n"
     ]
    }
   ],
   "source": [
    "print(purchase.head())"
   ]
  },
  {
   "cell_type": "markdown",
   "id": "400c3993",
   "metadata": {},
   "source": [
    "# Let's see all the visitors and the ones that put a T shirt in the cart"
   ]
  },
  {
   "cell_type": "code",
   "execution_count": 105,
   "id": "be6db179",
   "metadata": {},
   "outputs": [],
   "source": [
    "visitors_cart = pd.merge(visits,cart, how =\"left\")"
   ]
  },
  {
   "cell_type": "code",
   "execution_count": 106,
   "id": "278a3ce7",
   "metadata": {},
   "outputs": [
    {
     "data": {
      "text/plain": [
       "2000"
      ]
     },
     "execution_count": 106,
     "metadata": {},
     "output_type": "execute_result"
    }
   ],
   "source": [
    "visitors_cart.user_id.count()"
   ]
  },
  {
   "cell_type": "code",
   "execution_count": 107,
   "id": "a291d740",
   "metadata": {},
   "outputs": [
    {
     "data": {
      "text/plain": [
       "348"
      ]
     },
     "execution_count": 107,
     "metadata": {},
     "output_type": "execute_result"
    }
   ],
   "source": [
    "cart.user_id.count()"
   ]
  },
  {
   "cell_type": "code",
   "execution_count": 108,
   "id": "0cced5d2",
   "metadata": {},
   "outputs": [
    {
     "name": "stdout",
     "output_type": "stream",
     "text": [
      "                                user_id          visit_time  \\\n",
      "0  943647ef-3682-4750-a2e1-918ba6f16188 2017-04-07 15:14:00   \n",
      "1  0c3a3dd0-fb64-4eac-bf84-ba069ce409f2 2017-01-26 14:24:00   \n",
      "2  6e0b2d60-4027-4d9a-babd-0e7d40859fb1 2017-08-20 08:23:00   \n",
      "3  6879527e-c5a6-4d14-b2da-50b85212b0ab 2017-11-04 18:15:00   \n",
      "4  a84327ff-5daa-4ba1-b789-d5b4caf81e96 2017-02-27 11:25:00   \n",
      "\n",
      "            cart_time  \n",
      "0                 NaT  \n",
      "1 2017-01-26 14:44:00  \n",
      "2 2017-08-20 08:31:00  \n",
      "3                 NaT  \n",
      "4                 NaT  \n"
     ]
    }
   ],
   "source": [
    "print(visitors_cart.head())"
   ]
  },
  {
   "cell_type": "markdown",
   "id": "22c3bbcf",
   "metadata": {},
   "source": [
    "# How many of the 2000 visitors that visited the site left without putting an article in the cart?"
   ]
  },
  {
   "cell_type": "code",
   "execution_count": 109,
   "id": "ce1d3e74",
   "metadata": {},
   "outputs": [],
   "source": [
    "num_of_no_cart= len(visitors_cart[visitors_cart.cart_time.isnull()])"
   ]
  },
  {
   "cell_type": "code",
   "execution_count": 110,
   "id": "f37549dc",
   "metadata": {},
   "outputs": [
    {
     "name": "stdout",
     "output_type": "stream",
     "text": [
      "1652\n"
     ]
    }
   ],
   "source": [
    "print(num_of_no_cart)"
   ]
  },
  {
   "cell_type": "markdown",
   "id": "631e7c0e",
   "metadata": {},
   "source": [
    "# 1652 out of the 2000 visitors never made it to the cart"
   ]
  },
  {
   "cell_type": "markdown",
   "id": "4598645d",
   "metadata": {},
   "source": [
    "# What percentage of the visitors ended up not placing an article in the cart?"
   ]
  },
  {
   "cell_type": "code",
   "execution_count": 111,
   "id": "bea9de97",
   "metadata": {},
   "outputs": [],
   "source": [
    "percentage_not_cart = float(num_of_no_cart)/float(visitors_cart.user_id.count())"
   ]
  },
  {
   "cell_type": "code",
   "execution_count": 112,
   "id": "42ad179a",
   "metadata": {},
   "outputs": [
    {
     "name": "stdout",
     "output_type": "stream",
     "text": [
      "0.826\n"
     ]
    }
   ],
   "source": [
    "print(percentage_not_cart)"
   ]
  },
  {
   "cell_type": "markdown",
   "id": "66cffb29",
   "metadata": {},
   "source": [
    "# 82.6% of visiters did not place an article in the cart."
   ]
  },
  {
   "cell_type": "code",
   "execution_count": 113,
   "id": "02320a6c",
   "metadata": {},
   "outputs": [],
   "source": [
    "visitors_checkout = pd.merge(cart,checkout, how =\"left\")"
   ]
  },
  {
   "cell_type": "code",
   "execution_count": 114,
   "id": "112a2064",
   "metadata": {
    "scrolled": true
   },
   "outputs": [
    {
     "name": "stdout",
     "output_type": "stream",
     "text": [
      "                                user_id           cart_time  \\\n",
      "0  2be90e7c-9cca-44e0-bcc5-124b945ff168 2017-11-07 20:45:00   \n",
      "1  4397f73f-1da3-4ab3-91af-762792e25973 2017-05-27 01:35:00   \n",
      "2  a9db3d4b-0a0a-4398-a55a-ebb2c7adf663 2017-03-04 10:38:00   \n",
      "3  b594862a-36c5-47d5-b818-6e9512b939b3 2017-09-27 08:22:00   \n",
      "4  a68a16e2-94f0-4ce8-8ce3-784af0bbb974 2017-07-26 15:48:00   \n",
      "\n",
      "        checkout_time  \n",
      "0 2017-11-07 21:14:00  \n",
      "1                 NaT  \n",
      "2 2017-03-04 11:04:00  \n",
      "3 2017-09-27 08:26:00  \n",
      "4                 NaT  \n"
     ]
    }
   ],
   "source": [
    "print(visitors_checkout.head())"
   ]
  },
  {
   "cell_type": "code",
   "execution_count": 115,
   "id": "46a7ef60",
   "metadata": {},
   "outputs": [],
   "source": [
    "count_no_checkout = len(visitors_checkout[visitors_checkout.checkout_time.isnull()])"
   ]
  },
  {
   "cell_type": "code",
   "execution_count": 116,
   "id": "a9b8ffbc",
   "metadata": {},
   "outputs": [
    {
     "name": "stdout",
     "output_type": "stream",
     "text": [
      "348\n"
     ]
    }
   ],
   "source": [
    "print(visitors_checkout.user_id.count())"
   ]
  },
  {
   "cell_type": "code",
   "execution_count": 117,
   "id": "313cd1d7",
   "metadata": {},
   "outputs": [
    {
     "name": "stdout",
     "output_type": "stream",
     "text": [
      "122\n"
     ]
    }
   ],
   "source": [
    "print(count_no_checkout)"
   ]
  },
  {
   "cell_type": "markdown",
   "id": "cbf4b7f3",
   "metadata": {},
   "source": [
    "# What percentage of users put items in their cart, but did not proceed to checkout"
   ]
  },
  {
   "cell_type": "code",
   "execution_count": 118,
   "id": "e5081897",
   "metadata": {},
   "outputs": [],
   "source": [
    "cart_not_checkout = float(count_no_checkout) / float(visitors_checkout.user_id.count())"
   ]
  },
  {
   "cell_type": "markdown",
   "id": "3292cc4c",
   "metadata": {},
   "source": [
    "# 35% of the users that put items in their cart did not proceed to checkout"
   ]
  },
  {
   "cell_type": "code",
   "execution_count": 119,
   "id": "31c4c818",
   "metadata": {},
   "outputs": [],
   "source": [
    "all_data = visitors_cart.merge(visitors_checkout,how=\"left\").merge(purchase, how=\"left\")"
   ]
  },
  {
   "cell_type": "code",
   "execution_count": 120,
   "id": "b9a26cd0",
   "metadata": {},
   "outputs": [
    {
     "name": "stdout",
     "output_type": "stream",
     "text": [
      "                                user_id          visit_time  \\\n",
      "0  943647ef-3682-4750-a2e1-918ba6f16188 2017-04-07 15:14:00   \n",
      "1  0c3a3dd0-fb64-4eac-bf84-ba069ce409f2 2017-01-26 14:24:00   \n",
      "2  6e0b2d60-4027-4d9a-babd-0e7d40859fb1 2017-08-20 08:23:00   \n",
      "3  6879527e-c5a6-4d14-b2da-50b85212b0ab 2017-11-04 18:15:00   \n",
      "4  a84327ff-5daa-4ba1-b789-d5b4caf81e96 2017-02-27 11:25:00   \n",
      "\n",
      "            cart_time       checkout_time       purchase_time  \n",
      "0                 NaT                 NaT                 NaT  \n",
      "1 2017-01-26 14:44:00 2017-01-26 14:54:00 2017-01-26 15:08:00  \n",
      "2 2017-08-20 08:31:00                 NaT                 NaT  \n",
      "3                 NaT                 NaT                 NaT  \n",
      "4                 NaT                 NaT                 NaT  \n"
     ]
    }
   ],
   "source": [
    "print(all_data.head())\n"
   ]
  },
  {
   "cell_type": "code",
   "execution_count": 121,
   "id": "9542066d",
   "metadata": {},
   "outputs": [],
   "source": [
    "checkout = all_data.user_id.count() - len(all_data[all_data.checkout_time.isnull()])"
   ]
  },
  {
   "cell_type": "code",
   "execution_count": 122,
   "id": "d8d5c80d",
   "metadata": {},
   "outputs": [],
   "source": [
    "purchase = all_data.user_id.count()-len(all_data[all_data.purchase_time.isnull()])\n",
    "\n"
   ]
  },
  {
   "cell_type": "code",
   "execution_count": 123,
   "id": "f37296cb",
   "metadata": {},
   "outputs": [],
   "source": [
    "checkout_not_purchased = (all_data.user_id.count() - len(all_data[all_data.checkout_time.isnull()]))-(all_data.user_id.count()-len(all_data[all_data.purchase_time.isnull()]))"
   ]
  },
  {
   "cell_type": "code",
   "execution_count": 124,
   "id": "357f6614",
   "metadata": {},
   "outputs": [
    {
     "name": "stdout",
     "output_type": "stream",
     "text": [
      "82\n"
     ]
    }
   ],
   "source": [
    "print(checkout_not_purchased)"
   ]
  },
  {
   "cell_type": "markdown",
   "id": "9eb8b57f",
   "metadata": {},
   "source": [
    "# What percentage of users proceeded to checkout, but did not purchase a t-shirt?# "
   ]
  },
  {
   "cell_type": "code",
   "execution_count": 125,
   "id": "ee83092d",
   "metadata": {},
   "outputs": [
    {
     "name": "stdout",
     "output_type": "stream",
     "text": [
      "% of users who got to checkout but did not purchase: 0.24550898203592814\n"
     ]
    }
   ],
   "source": [
    "reached_checkout = all_data[~all_data.checkout_time.isnull()]\n",
    "\n",
    "checkout_not_purchase = all_data[(all_data.purchase_time.isnull()) & (~all_data.checkout_time.isnull())]\n",
    "\n",
    "checkout_not_purchase_percent = float(len(checkout_not_purchase)) / float(len(reached_checkout))\n",
    "\n",
    "print(\"% of users who got to checkout but did not purchase:\",checkout_not_purchase_percent)"
   ]
  },
  {
   "cell_type": "markdown",
   "id": "1acafc47",
   "metadata": {},
   "source": [
    "# 24.55% of users go to checkout but did not purchase"
   ]
  },
  {
   "cell_type": "code",
   "execution_count": 126,
   "id": "ba2f6f15",
   "metadata": {},
   "outputs": [
    {
     "name": "stdout",
     "output_type": "stream",
     "text": [
      "334\n"
     ]
    }
   ],
   "source": [
    "print(reached_checkout.user_id.count())"
   ]
  },
  {
   "cell_type": "code",
   "execution_count": 127,
   "id": "b3b25908",
   "metadata": {},
   "outputs": [
    {
     "name": "stdout",
     "output_type": "stream",
     "text": [
      "82\n"
     ]
    }
   ],
   "source": [
    "print(checkout_not_purchase.user_id.count())"
   ]
  },
  {
   "cell_type": "code",
   "execution_count": 128,
   "id": "03914f86",
   "metadata": {},
   "outputs": [
    {
     "name": "stdout",
     "output_type": "stream",
     "text": [
      "82.6 percent of users who visited the page did not add a t-shirt to their cart\n",
      "35.06 percent of users who added a t-shirt to their cart did not checkout\n",
      "24.55 percent of users who made it to checkout  did not purchase a shirt\n"
     ]
    }
   ],
   "source": [
    "print(\"{} percent of users who visited the page did not add a t-shirt to their cart\".format(round(percentage_not_cart*100, 2)))\n",
    "print(\"{} percent of users who added a t-shirt to their cart did not checkout\".format(round(cart_not_checkout*100, 2)))\n",
    "print(\"{} percent of users who made it to checkout  did not purchase a shirt\".format(round( checkout_not_purchase_percent*100, 2)))"
   ]
  },
  {
   "cell_type": "markdown",
   "id": "f2bd21fa",
   "metadata": {},
   "source": [
    "# The weakest part of the funnel is getting a person who visited the site to purchase a T-shirt. why are people not putting the T-shirt in the cart? Is the cart button visible enough? Is the cart button at several strategic places on the website? Is the ad targetted to the wrong audience? Are the T-shirts too expensive?   "
   ]
  },
  {
   "cell_type": "markdown",
   "id": "95d90b85",
   "metadata": {},
   "source": [
    "# How long does it take from the time people get on the website to the time they purchase the product?"
   ]
  },
  {
   "cell_type": "code",
   "execution_count": 129,
   "id": "44c97f8a",
   "metadata": {},
   "outputs": [
    {
     "name": "stdout",
     "output_type": "stream",
     "text": [
      "                                 user_id          visit_time  \\\n",
      "0   943647ef-3682-4750-a2e1-918ba6f16188 2017-04-07 15:14:00   \n",
      "1   0c3a3dd0-fb64-4eac-bf84-ba069ce409f2 2017-01-26 14:24:00   \n",
      "2   6e0b2d60-4027-4d9a-babd-0e7d40859fb1 2017-08-20 08:23:00   \n",
      "3   6879527e-c5a6-4d14-b2da-50b85212b0ab 2017-11-04 18:15:00   \n",
      "4   a84327ff-5daa-4ba1-b789-d5b4caf81e96 2017-02-27 11:25:00   \n",
      "5   7bc62113-d51d-4e6b-85e0-1cf29e3de74a 2017-06-03 20:05:00   \n",
      "6   6f22cd44-bc63-4449-a9af-2651859da2f9 2017-03-18 23:09:00   \n",
      "7   49a6399b-c095-4e42-92eb-af90abe2bb6a 2017-01-10 12:09:00   \n",
      "8   653c095d-fd74-40dd-ae3b-5a69a2613629 2017-06-27 19:21:00   \n",
      "9   3d9fdac1-aae3-4a01-b448-934d12047468 2017-09-24 06:43:00   \n",
      "10  1955acc9-5228-4277-beed-fd23f0f355b3 2017-04-20 23:01:00   \n",
      "11  a627ba57-b34d-4166-8b78-1ff3f46f5478 2017-08-11 13:41:00   \n",
      "12  10d5a3e0-1d72-4bea-9670-f0f0234d6e48 2017-02-26 10:09:00   \n",
      "13  0c1fa5fe-27c1-4e1f-b353-26a428da2832 2017-07-04 09:56:00   \n",
      "14  486480e2-98c3-4d51-8f4b-b1c07228ce84 2017-01-27 16:34:00   \n",
      "15  2f954f3f-e621-4be2-9d3f-e9dc8afe38dd 2017-10-19 03:22:00   \n",
      "16  7a3030d1-37a4-4ed1-a410-84f50f991903 2017-09-05 18:27:00   \n",
      "17  d8b14a61-cc64-4e56-be6e-cd8d3b35eece 2017-08-22 15:55:00   \n",
      "18  a9e73e1a-0fd1-4514-b163-03a76a216069 2017-04-02 06:40:00   \n",
      "19  335fe581-92e1-4f3c-a5f4-2600f50007a9 2017-11-08 14:39:00   \n",
      "\n",
      "             cart_time       checkout_time       purchase_time  \\\n",
      "0                  NaT                 NaT                 NaT   \n",
      "1  2017-01-26 14:44:00 2017-01-26 14:54:00 2017-01-26 15:08:00   \n",
      "2  2017-08-20 08:31:00                 NaT                 NaT   \n",
      "3                  NaT                 NaT                 NaT   \n",
      "4                  NaT                 NaT                 NaT   \n",
      "5                  NaT                 NaT                 NaT   \n",
      "6                  NaT                 NaT                 NaT   \n",
      "7                  NaT                 NaT                 NaT   \n",
      "8                  NaT                 NaT                 NaT   \n",
      "9                  NaT                 NaT                 NaT   \n",
      "10                 NaT                 NaT                 NaT   \n",
      "11                 NaT                 NaT                 NaT   \n",
      "12                 NaT                 NaT                 NaT   \n",
      "13                 NaT                 NaT                 NaT   \n",
      "14 2017-01-27 16:44:00 2017-01-27 17:10:00 2017-01-27 17:12:00   \n",
      "15                 NaT                 NaT                 NaT   \n",
      "16                 NaT                 NaT                 NaT   \n",
      "17                 NaT                 NaT                 NaT   \n",
      "18                 NaT                 NaT                 NaT   \n",
      "19                 NaT                 NaT                 NaT   \n",
      "\n",
      "   Time_to_checkout  \n",
      "0               NaT  \n",
      "1   0 days 00:44:00  \n",
      "2               NaT  \n",
      "3               NaT  \n",
      "4               NaT  \n",
      "5               NaT  \n",
      "6               NaT  \n",
      "7               NaT  \n",
      "8               NaT  \n",
      "9               NaT  \n",
      "10              NaT  \n",
      "11              NaT  \n",
      "12              NaT  \n",
      "13              NaT  \n",
      "14  0 days 00:38:00  \n",
      "15              NaT  \n",
      "16              NaT  \n",
      "17              NaT  \n",
      "18              NaT  \n",
      "19              NaT  \n"
     ]
    }
   ],
   "source": [
    "all_data[\"Time_to_checkout\"]= all_data.purchase_time - all_data.visit_time\n",
    "print(all_data.head(20))"
   ]
  },
  {
   "cell_type": "code",
   "execution_count": 130,
   "id": "e553a63b",
   "metadata": {},
   "outputs": [
    {
     "data": {
      "text/plain": [
       "Timedelta('0 days 00:43:12.380952380')"
      ]
     },
     "execution_count": 130,
     "metadata": {},
     "output_type": "execute_result"
    }
   ],
   "source": [
    "all_data.Time_to_checkout.mean()"
   ]
  },
  {
   "cell_type": "markdown",
   "id": "fae006f3",
   "metadata": {},
   "source": [
    "# In average it takes 43minutes and 12 seconds for a person visiting the website to purchase a T shirt"
   ]
  }
 ],
 "metadata": {
  "kernelspec": {
   "display_name": "Python 3 (ipykernel)",
   "language": "python",
   "name": "python3"
  },
  "language_info": {
   "codemirror_mode": {
    "name": "ipython",
    "version": 3
   },
   "file_extension": ".py",
   "mimetype": "text/x-python",
   "name": "python",
   "nbconvert_exporter": "python",
   "pygments_lexer": "ipython3",
   "version": "3.9.13"
  }
 },
 "nbformat": 4,
 "nbformat_minor": 5
}
